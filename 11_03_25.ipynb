{
  "nbformat": 4,
  "nbformat_minor": 0,
  "metadata": {
    "colab": {
      "provenance": [],
      "include_colab_link": true
    },
    "kernelspec": {
      "name": "python3",
      "display_name": "Python 3"
    },
    "language_info": {
      "name": "python"
    }
  },
  "cells": [
    {
      "cell_type": "markdown",
      "metadata": {
        "id": "view-in-github",
        "colab_type": "text"
      },
      "source": [
        "<a href=\"https://colab.research.google.com/github/jai77777777/LMS_Daily/blob/main/11_03_25.ipynb\" target=\"_parent\"><img src=\"https://colab.research.google.com/assets/colab-badge.svg\" alt=\"Open In Colab\"/></a>"
      ]
    },
    {
      "cell_type": "code",
      "source": [
        "import google.generativeai as genai\n",
        "from google.colab import userdata\n",
        "GOOGLE_API_KEY=userdata.get('GOOGLE_API_KEY')\n",
        "genai.configure(api_key=GOOGLE_API_KEY)"
      ],
      "metadata": {
        "id": "4cMujC7e-F2u"
      },
      "execution_count": 4,
      "outputs": []
    },
    {
      "cell_type": "code",
      "source": [
        "import google.generativeai as genai\n",
        "from google.colab import userdata\n",
        "\n",
        "GOOGLE_API_KEY = userdata.get('GOOGLE_API_KEY')\n",
        "genai.configure(api_key=GOOGLE_API_KEY)"
      ],
      "metadata": {
        "id": "pg5bMgp2tt9d"
      },
      "execution_count": 5,
      "outputs": []
    },
    {
      "cell_type": "code",
      "source": [
        "import pathlib\n",
        "import textwrap\n",
        "from IPython.display import display, Markdown\n",
        "def to_markdown(text):\n",
        "  text = text.replace('•', '  *')\n",
        "  return Markdown(textwrap.indent(text, '> ', predicate=lambda _: True))"
      ],
      "metadata": {
        "id": "1Q3w4mxZAipq"
      },
      "execution_count": 6,
      "outputs": []
    },
    {
      "cell_type": "code",
      "source": [
        "import PIL.Image\n",
        "img = PIL.Image.open('/content/Image20250311125052.jpg')\n",
        "img\n",
        "model = genai.GenerativeModel('gemini-1.5-flash')\n",
        "response = model.generate_content([\"Write a short, engaging blog post based on this picture.]) It should include a description of the meal in the photo and talk about my journey meal prepping.\", img],\n",
        "stream=True)\n",
        "response.resolve()"
      ],
      "metadata": {
        "id": "G5RdETvnC8DN"
      },
      "execution_count": 9,
      "outputs": []
    },
    {
      "source": [
        "response = model.generate_content([\"What emotions can you detect in this image?\", img]) # Change 'image' to 'img'\n",
        "print(response.text)"
      ],
      "cell_type": "code",
      "metadata": {
        "id": "ysa1CMMTGi__",
        "outputId": "f1435405-14ed-4818-e8e5-d551a122ea2f",
        "colab": {
          "base_uri": "https://localhost:8080/",
          "height": 193
        }
      },
      "execution_count": 10,
      "outputs": [
        {
          "output_type": "stream",
          "name": "stdout",
          "text": [
            "The woman in the image appears to be expressing:\n",
            "\n",
            "* **Happiness/Joy:** Her smile is genuine and bright, suggesting positive emotions.\n",
            "* **Helpfulness/Friendliness:** The pointing gesture combined with the smile indicates she is likely trying to help or guide someone.  She looks approachable.\n",
            "* **Confidence/Assurance:**  Her posture and direct gaze suggest self-assurance.\n",
            "\n",
            "\n",
            "There's no indication of negative emotions in her expression or body language.\n",
            "\n"
          ]
        }
      ]
    },
    {
      "cell_type": "code",
      "source": [
        "import google.generativeai as genai\n",
        "from google.colab import userdata\n",
        "GOOGLE_API_KEY = userdata.get('GOOGLE_API_KEY')\n",
        "genai.configure(api_key=GOOGLE_API_KEY)"
      ],
      "metadata": {
        "id": "KunqK3DCGcph"
      },
      "execution_count": 11,
      "outputs": []
    },
    {
      "cell_type": "code",
      "source": [
        "image_path = \"/content/Image20250313094031.jpg\"\n",
        "image = Image.open(image_path)\n",
        "response = model.generate_content([\"Identify the brand or company associated with this logo\", image])\n",
        "print(response.text)"
      ],
      "metadata": {
        "id": "AWI14cPjr5Mx",
        "colab": {
          "base_uri": "https://localhost:8080/",
          "height": 52
        },
        "outputId": "fbe6456b-492d-485b-f672-03f6e1cc8f9f"
      },
      "execution_count": 17,
      "outputs": [
        {
          "output_type": "stream",
          "name": "stdout",
          "text": [
            "That's the logo for **Amazon**.\n",
            "\n"
          ]
        }
      ]
    },
    {
      "cell_type": "code",
      "source": [
        "import google.generativeai as genai\n",
        "from google.colab import userdataGOOGLE_API_KEY"
      ],
      "metadata": {
        "id": "IvJBjgEesuRT"
      },
      "execution_count": null,
      "outputs": []
    },
    {
      "cell_type": "code",
      "source": [
        "from PIL import Image\n",
        "image_path = \"/content/Image20250313094236.jpg\"\n",
        "image = Image.open(image_path)\n",
        "response = model.generate_content([\"Identify the brand or company associated with this logo.\",image])\n",
        "print(response.text)"
      ],
      "metadata": {
        "colab": {
          "base_uri": "https://localhost:8080/",
          "height": 52
        },
        "id": "sYkHbp0ste-I",
        "outputId": "8507351c-19d9-4eef-dee8-789d121aeff8"
      },
      "execution_count": 16,
      "outputs": [
        {
          "output_type": "stream",
          "name": "stdout",
          "text": [
            "That's a pair of **Sony MDR-1000X** headphones.\n",
            "\n"
          ]
        }
      ]
    },
    {
      "cell_type": "code",
      "source": [
        "response = model.generate_content([\"Suugest similar product to this one.\", image])\n",
        "print(response.text)"
      ],
      "metadata": {
        "colab": {
          "base_uri": "https://localhost:8080/",
          "height": 228
        },
        "id": "HsX2M3zrv-B0",
        "outputId": "e1e1977e-ba96-4168-a3cc-d07253837afd"
      },
      "execution_count": 18,
      "outputs": [
        {
          "output_type": "stream",
          "name": "stdout",
          "text": [
            "That's the logo for Amazon.  To suggest similar products, I need more information about *what aspect* of Amazon you're interested in.  Amazon offers a vast array of products and services, including:\n",
            "\n",
            "* **E-commerce:** If you're looking for similar online retailers, some examples include: eBay, Walmart, Target, Etsy, Alibaba.\n",
            "* **Cloud Computing (AWS):**  Competitors include: Google Cloud Platform (GCP), Microsoft Azure, IBM Cloud.\n",
            "* **Digital Streaming (Prime Video):**  Netflix, Hulu, Disney+, HBO Max.\n",
            "* **Digital Music (Amazon Music):** Spotify, Apple Music, YouTube Music.\n",
            "* **E-readers (Kindle):** Kobo, Nook.\n",
            "\n",
            "\n",
            "Please clarify what kind of product or service you're looking for, and I can give you more specific suggestions.\n",
            "\n"
          ]
        }
      ]
    },
    {
      "cell_type": "code",
      "source": [
        "image_path = \"invoice.jpg\"\n",
        "image = Image.open(image_path)\n",
        "response = model.generate_content([\"Extract the price from this image.\", image])\n",
        "print(response.text)\n"
      ],
      "metadata": {
        "colab": {
          "base_uri": "https://localhost:8080/",
          "height": 54
        },
        "id": "GQfloQEUwGjh",
        "outputId": "fdf4627d-bd64-4668-a605-5f4a793f829e"
      },
      "execution_count": 19,
      "outputs": [
        {
          "output_type": "stream",
          "name": "stdout",
          "text": [
            "The price of each item is $10.00.  The sub-total is $100.00, and the grand total, including 10% tax, is also $100.00.\n"
          ]
        }
      ]
    },
    {
      "cell_type": "code",
      "source": [
        "image_path = \"bicycle.jpg\"\n",
        "image = Image.open(image_path)\n",
        "response = model.generate_content([\"Identify all objects present in this image.\", image])\n",
        "print(response.text)"
      ],
      "metadata": {
        "colab": {
          "base_uri": "https://localhost:8080/",
          "height": 211
        },
        "id": "4wSTZVn5wXqi",
        "outputId": "048aef28-03aa-4ece-ac31-a98502898c6f"
      },
      "execution_count": 20,
      "outputs": [
        {
          "output_type": "stream",
          "name": "stdout",
          "text": [
            "Here's a list of the objects present in the image:\n",
            "\n",
            "* **Two bicycles:** One is yellow and black, the other is white.\n",
            "* **Two men:** Riding the bicycles. One is wearing a blue shirt and camouflage shorts, the other a grey shirt and jeans and a red cap.\n",
            "* **A motorcycle:** Parked on the left side of the image.\n",
            "* **A building:** With a roller shutter door, windows, and a visible interior space.\n",
            "* **Chairs:**  Visible inside the building.\n",
            "* **A man (in the background):** Sitting inside the building.\n",
            "* **Street/Road:**  The paved surface where the bicycles are being ridden.\n",
            "* **Vegetation:** Some grass is visible along the side of the road.\n"
          ]
        }
      ]
    },
    {
      "cell_type": "code",
      "source": [],
      "metadata": {
        "id": "PEOI6G0ixWuV"
      },
      "execution_count": null,
      "outputs": []
    }
  ]
}