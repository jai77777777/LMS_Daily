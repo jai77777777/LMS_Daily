{
  "nbformat": 4,
  "nbformat_minor": 0,
  "metadata": {
    "colab": {
      "provenance": [],
      "authorship_tag": "ABX9TyMy9JgKIyg9qLMIYy7NfGVO",
      "include_colab_link": true
    },
    "kernelspec": {
      "name": "python3",
      "display_name": "Python 3"
    },
    "language_info": {
      "name": "python"
    }
  },
  "cells": [
    {
      "cell_type": "markdown",
      "metadata": {
        "id": "view-in-github",
        "colab_type": "text"
      },
      "source": [
        "<a href=\"https://colab.research.google.com/github/jai77777777/LMS_Daily/blob/main/15_03_25.ipynb\" target=\"_parent\"><img src=\"https://colab.research.google.com/assets/colab-badge.svg\" alt=\"Open In Colab\"/></a>"
      ]
    },
    {
      "cell_type": "code",
      "execution_count": 4,
      "metadata": {
        "id": "rNLgnPdGgjKF"
      },
      "outputs": [],
      "source": [
        "import google.generativeai as genai\n",
        "from google.colab import userdata\n",
        "GOOGLE_API_KEY=userdata.get('GOOGLE_API_KEY')\n",
        "genai.configure(api_key=GOOGLE_API_KEY)\n"
      ]
    },
    {
      "cell_type": "code",
      "source": [
        "pip install PyPDF2"
      ],
      "metadata": {
        "colab": {
          "base_uri": "https://localhost:8080/"
        },
        "id": "0ekMhICWg0lc",
        "outputId": "3e115b39-e338-4f62-f136-d8f7ef058ce3"
      },
      "execution_count": 14,
      "outputs": [
        {
          "output_type": "stream",
          "name": "stdout",
          "text": [
            "Requirement already satisfied: PyPDF2 in /usr/local/lib/python3.11/dist-packages (3.0.1)\n"
          ]
        }
      ]
    },
    {
      "cell_type": "code",
      "source": [
        "import PyPDF2\n",
        "def extract_text_from_pdf(pdf_path):\n",
        "  text=\"\"\n",
        "  with open(pdf_path,'rb') as file:\n",
        "      reader=PyPDF2.PdfReader(file)\n",
        "      for page in reader.pages:\n",
        "        text += page.extract_text() + \"\\n\"\n",
        "  return text"
      ],
      "metadata": {
        "id": "oKkTKbftg21r"
      },
      "execution_count": 6,
      "outputs": []
    },
    {
      "cell_type": "code",
      "source": [
        "def extract_health_insights(text):\n",
        "    \"\"\"Asks Gemini AI to extract key medical insights from the report.\"\"\"\n",
        "    model = genai.GenerativeModel(\"gemini-1.5-flash\")\n",
        "    prompt = f\"Extract key insights from the following health report:\\n\\n{text}\"\n",
        "    response = model.generate_content(prompt)\n",
        "    return response.text\n",
        "\n",
        "pdf_file = \"health_report.pdf\"\n",
        "extracted_text = extract_text_from_pdf(pdf_file)\n",
        "insights = extract_health_insights(extracted_text)\n",
        "print(\"Key Insights:\\n\", insights)"
      ],
      "metadata": {
        "colab": {
          "base_uri": "https://localhost:8080/",
          "height": 471
        },
        "id": "5OraUuMMiHEM",
        "outputId": "ff3fdea4-bf33-496f-dcd8-4647f20dc235"
      },
      "execution_count": 11,
      "outputs": [
        {
          "output_type": "stream",
          "name": "stdout",
          "text": [
            "Key Insights:\n",
            " The lab report for Mr. Kishan Goud (MR2100003157) reveals the following key insights:\n",
            "\n",
            "**Infectious Disease Markers:**\n",
            "\n",
            "* **Widal Test:** Elevated titers for *Salmonella Typhi* \"O\" (1:160) and \"H\" (1:80) suggest a possible past or present typhoid infection.  The reference range is significantly lower (1:20).  Further investigation may be needed to confirm active infection.  *Salmonella Paratyphi* \"A\" and \"B\" titers are within the normal range.\n",
            "* **Dengue Serology:** Negative results for Dengue NS1 antigen, IgG, and IgM antibodies indicate no evidence of current or recent dengue fever infection.\n",
            "* **Malaria:** Negative rapid malaria test for both *Plasmodium falciparum* and *Plasmodium vivax* rules out malaria.\n",
            "\n",
            "**Hematology:**\n",
            "\n",
            "* **Complete Blood Picture (CBC):**  All blood parameters (Hemoglobin, RBC, WBC, Platelets, PCV) are within the normal range. Differential count shows normal distribution of white blood cells. Peripheral blood smear shows normal RBC morphology and WBC count.\n",
            "* **Erythrocyte Sedimentation Rate (ESR):** Elevated ESR (26 mm/hr in the first hour, 52 mm/hr in the second hour) indicates inflammation or infection. The significantly high ESR value warrants further investigation.\n",
            "\n",
            "**Biochemistry:**\n",
            "\n",
            "* **Liver Function Tests (LFTs):** All liver function parameters (bilirubin - total, direct, and indirect; alkaline phosphatase; SGOT; SGPT; total protein; albumin; globulin; A/G ratio) are within normal limits, indicating no significant liver dysfunction.\n",
            "* **Serum Electrolytes:** Serum sodium is slightly low (122 mmol/l; reference range 135-146 mmol/l). Serum potassium and chloride are within normal ranges.  The low sodium needs further evaluation.\n",
            "* **Renal Function:** Serum creatinine is within the normal range (0.8 mg/dl; reference range 0.6-1.25 mg/dl), indicating normal kidney function.\n",
            "* **Blood Glucose:**  Random blood glucose is not provided. HbA1c is 5.4%, which falls within the normal non-diabetic range (4-6%), suggesting good blood glucose control.\n",
            "\n",
            "**Overall:**\n",
            "\n",
            "The report shows some concerning findings, notably the elevated ESR and slightly low sodium levels. The Widal test results suggest possible past or present typhoid infection, though further investigation is necessary to determine if this is an active infection.  The other tests, including those for dengue and malaria, were negative.  The patient's doctor should consider these results, particularly the elevated ESR and low sodium, and order any further necessary tests or investigations.\n",
            "\n"
          ]
        }
      ]
    },
    {
      "cell_type": "code",
      "source": [
        "def summarize_health_report(text):\n",
        "\n",
        "    model = genai.GenerativeModel(\"gemini-1.5-flash\")\n",
        "    prompt = f\"Extract key insights from the following health report:\\n\\n{text}\"\n",
        "    response = model.generate_content(prompt)\n",
        "    return response.text\n",
        "\n",
        "summary=summarize_health_report(extracted_text)\n",
        "print(\"Summary:\\n\",summary)"
      ],
      "metadata": {
        "colab": {
          "base_uri": "https://localhost:8080/",
          "height": 488
        },
        "id": "J9J3a0BCjwlL",
        "outputId": "29c38c7c-1a5c-4254-cd0e-40ff7d2473cc"
      },
      "execution_count": 15,
      "outputs": [
        {
          "output_type": "stream",
          "name": "stdout",
          "text": [
            "Summary:\n",
            " Mr. Kishan Goud's (MR Number: MR2100003157) health report from February 1st, 2021, reveals the following key insights:\n",
            "\n",
            "**Infectious Diseases:**\n",
            "\n",
            "* **Widal Test:** Elevated titers for *Salmonella Typhi* \"O\" (1:160) and \"H\" (1:80) suggest a possible past or present typhoid infection.  The reference range is 1:20.  Further investigation may be warranted. *Salmonella Paratyphi* \"A\" and \"B\" titers were within the normal range.\n",
            "* **Dengue Serology:** Negative results for Dengue NS1 antigen, IgG, and IgM antibodies indicate no current or recent dengue fever infection.\n",
            "* **Malaria:** Rapid malaria tests for *Plasmodium falciparum* and *Plasmodium vivax* were both negative.\n",
            "\n",
            "\n",
            "**Hematology:**\n",
            "\n",
            "* **Complete Blood Picture (CBC):**  All values (Hemoglobin, RBC, WBC, Platelets, PCV, Differential Count) are within normal ranges except for a slightly elevated ESR (Erythrocyte Sedimentation Rate) at 26 mm/hr in the first hour and 52 mm/hr in the second hour (normal range 0-8 mm/hr).  Elevated ESR can indicate inflammation.\n",
            "* **HbA1c:**  5.4% indicating good blood sugar control (within the normal non-diabetic range of 4-6%).\n",
            "\n",
            "**Biochemistry:**\n",
            "\n",
            "* **Liver Function Test (LFT):**  All liver enzymes (serum bilirubin - total, direct, and indirect; alkaline phosphatase; SGOT; SGPT) and total protein & albumin are within normal limits.\n",
            "* **Serum Electrolytes:** Serum Sodium is slightly low (122 mmol/l; normal range 135-146 mmol/l), while Potassium and Chloride are within normal ranges.  The low sodium warrants further investigation.\n",
            "* **Serum Creatinine:** Within normal limits (0.8 mg/dl; normal range 0.6 - 1.25 mg/dl).\n",
            "* **Random Blood Glucose:**  Result not provided in the text.\n",
            "\n",
            "**Overall:**\n",
            "\n",
            "While most of the test results are within normal ranges, the elevated ESR and slightly low serum sodium require further evaluation by Dr. Krishna Prasad to determine the underlying cause. The elevated Widal test titers suggest past or present typhoid infection, which should also be considered in the overall assessment.\n",
            "\n"
          ]
        }
      ]
    },
    {
      "cell_type": "code",
      "source": [
        "def detect_abnormalities(text):\n",
        "\n",
        "    model = genai.GenerativeModel(\"gemini-1.5-flash\")\n",
        "    prompt = f\"Analyze the lab test results in the following health report and flag any abnormal values:\\n\\n{text}\"\n",
        "    response = model.generate_content(prompt)\n",
        "    return response.text\n",
        "\n",
        "abnormalities = detect_abnormalities(extracted_text)\n",
        "print(\"Potential Abnormalities:\\n\", abnormalities)"
      ],
      "metadata": {
        "colab": {
          "base_uri": "https://localhost:8080/",
          "height": 349
        },
        "id": "ZEfykC18lwPD",
        "outputId": "453c6764-9bc6-443d-f8bc-fe9bae573892"
      },
      "execution_count": 17,
      "outputs": [
        {
          "output_type": "stream",
          "name": "stdout",
          "text": [
            "Potential Abnormalities:\n",
            " Based on the provided lab results, the following values are outside the reference ranges, indicating potential abnormalities:\n",
            "\n",
            "* **Widal Test:**  S. Typhi \"O\" (1:160) and S. Typhi \"H\" (1:80) are significantly higher than the reference range (1:20). This strongly suggests a possible *Salmonella Typhi* infection (typhoid fever).  Further investigation and clinical correlation are necessary.\n",
            "\n",
            "* **ESR (Erythrocyte Sedimentation Rate):** Both the 1st hour (26 mm/hr) and 2nd hour (52 mm/hr) values are elevated above the reference range (0-8 mm/hr for the 1st hour).  Elevated ESR indicates inflammation in the body.  This could be related to the suspected typhoid, or another inflammatory process.\n",
            "\n",
            "* **Serum Sodium:**  122 mmol/l is below the reference range of 135-146 mmol/l. This indicates hyponatremia (low sodium levels in the blood), which can have various causes and requires further evaluation.\n",
            "\n",
            "* **Serum Chloride:** 97 mmol/l is below the reference range of 98-107 mmol/l. This is mild hypochloremia (low chloride levels), which often accompanies hyponatremia.\n",
            "\n",
            "\n",
            "**Values within the reference range but warranting consideration:**\n",
            "\n",
            "* **Lymphocytes:** While within the reference range (31%), it's on the higher end (closer to the upper limit of 40%).  This might be a reactive lymphocytosis, possibly related to the infection suspected from the Widal test.\n",
            "\n",
            "**Important Note:**  This analysis is based solely on the lab results.  A proper medical diagnosis requires a comprehensive clinical evaluation by a physician, considering the patient's medical history, symptoms, and other relevant factors.  The abnormalities flagged here necessitate further investigation and medical management.  The slightly elevated lymphocyte count and the overall picture point towards a possible infection, probably typhoid, requiring further tests and treatment decisions by a qualified physician.\n",
            "\n"
          ]
        }
      ]
    },
    {
      "cell_type": "code",
      "source": [
        "def explain_medical_terms(text):\n",
        "  model=genai.GenerativeModel(\"gemini-1.5-flash\")\n",
        "  prompt=f\"Explain the following medical terms in simple terms:\\n\\n{text}\"\n",
        "  response=model.generate_content(prompt)\n",
        "  return response.text\n",
        "explanation=explain_medical_terms(extracted_text)\n",
        "print(\"Explanation:\\n\",explanation)"
      ],
      "metadata": {
        "colab": {
          "base_uri": "https://localhost:8080/",
          "height": 1000
        },
        "id": "Vskd0avepq18",
        "outputId": "4c616331-1c85-4c5e-e2dd-38c511570dca"
      },
      "execution_count": 19,
      "outputs": [
        {
          "output_type": "stream",
          "name": "stdout",
          "text": [
            "Explanation:\n",
            " This is a collection of lab results for Mr. Kishan Goud. Let's break down each section:\n",
            "\n",
            "**1. WIDAL Test (for Typhoid Fever):**\n",
            "\n",
            "* **S. Typhi \"O\" 1:160:** This tests for antibodies against the *Salmonella Typhi* bacteria (the cause of typhoid fever).  \"O\" refers to a specific part of the bacteria. A 1:160 result means the antibodies were detected at a high dilution, suggesting a possible past or current typhoid infection.  The 1:20 dilution is the reference dilution used for comparison.\n",
            "* **S. Typhi \"H\" 1:80:** Similar to above, but tests for a different part (\"H\") of the *Salmonella Typhi* bacteria.  A 1:80 result also suggests a possible past or current typhoid infection, though slightly less strong than the \"O\" result.\n",
            "* **S. Paratyphi \"AH\" 1:20:**  Tests for antibodies against *Salmonella Paratyphi* A, another bacteria that can cause a similar illness. A 1:20 result is at the lower limit of detection and might not be significant.\n",
            "* **S. Paratyphi \"BH\" 1:20:** Tests for antibodies against *Salmonella Paratyphi* B.  A 1:20 result, like above, is at the lower limit of detection.\n",
            "\n",
            "**2. Dengue Serology:**\n",
            "\n",
            "* **Dengue NS1 Antigen Negative:**  Tests for a protein produced by the dengue virus.  Negative means no dengue virus was detected.\n",
            "* **Dengue IgG Negative:**  Tests for IgG antibodies against dengue virus. These antibodies appear later in the infection, indicating past exposure. Negative means no past infection was detected.\n",
            "* **Dengue IgM Negative:** Tests for IgM antibodies against dengue virus. These antibodies appear early in the infection. Negative means no current dengue infection was detected.\n",
            "\n",
            "**3. Erythrocyte Sedimentation Rate (ESR):**\n",
            "\n",
            "* **ESR 1st Hour 26 mm/hr:** Measures how quickly red blood cells settle in a test tube.  A higher rate (26 mm/hr is elevated compared to the reference range 0-8) often indicates inflammation or infection in the body.\n",
            "* **ESR 2nd Hour 52 mm/hr:**  The second-hour reading further confirms the increased inflammation/infection.\n",
            "\n",
            "**4. Rapid Malaria Test:**\n",
            "\n",
            "* **Rapid Malaria Test P.V Negative:** Tests for *Plasmodium vivax*, a type of malaria parasite. Negative means no *P. vivax* was detected.\n",
            "* **Rapid Malaria Test P.F Negative:** Tests for *Plasmodium falciparum*, another type of malaria parasite.  Negative means no *P. falciparum* was detected.\n",
            "\n",
            "**5. Complete Blood Picture (CBC):**\n",
            "\n",
            "This provides information about different components of the blood:\n",
            "\n",
            "* **Hemoglobin (Hb):** 13.6 gms% (within the normal range 13-17) - measures the oxygen-carrying capacity of red blood cells.\n",
            "* **Red Blood Cells (RBC):** 4.3 mill/cumm (slightly below the normal range 4.5-5.5) - the number of red blood cells.\n",
            "* **White Blood Cells (WBC):** 7,200 cells/cumm (within the normal range 4000-10000) – the number of white blood cells (part of the immune system).\n",
            "* **Platelet Count:** 2.0 lakhs/cumm (within the normal range 1.5-4.5) - the number of platelets (important for blood clotting).\n",
            "* **Packed Cell Volume (PCV):** 40.5% (within the normal range 40-50) – the percentage of red blood cells in the blood.\n",
            "* **Differential Count:** This shows the percentage of different types of white blood cells, all within normal limits.\n",
            "* **Peripheral Blood Smear:**  A microscopic examination of the blood, showing that the red and white blood cells and platelets appear normal.\n",
            "\n",
            "**6. HbA1c:**\n",
            "\n",
            "* **HbA1c 5.4%:** Measures average blood sugar levels over the past 2-3 months.  5.4% falls within the normal range for non-diabetics (4-6%).\n",
            "\n",
            "**7. Serum Creatinine:**\n",
            "\n",
            "* **Serum Creatinine 0.8 mg/dl:** Measures kidney function.  0.8 mg/dl is within the normal range (0.6-1.25).\n",
            "\n",
            "**8. Random Blood Glucose:**\n",
            "\n",
            "* **Random Blood Glucose:**  A measure of blood sugar at a random time.  The result is not provided, but the reference range is 60-170 mg/dl.\n",
            "\n",
            "**9. Liver Function Test (LFT):**\n",
            "\n",
            "Several tests assessing liver health:  All results are within normal ranges.\n",
            "\n",
            "* **Total Bilirubin:**  Measures the amount of bilirubin (a breakdown product of hemoglobin) in the blood.\n",
            "* **Direct Bilirubin:** A type of bilirubin.\n",
            "* **Indirect Bilirubin:** Another type of bilirubin.\n",
            "* **Serum Alkaline Phosphatase:** An enzyme found in the liver and bone.\n",
            "* **SGOT (AST):**  An enzyme found in the liver and other tissues.\n",
            "* **SGPT (ALT):**  An enzyme found in the liver and other tissues.\n",
            "* **Total Protein:**  The total amount of protein in the blood.\n",
            "* **Albumin:** A type of protein made by the liver.\n",
            "* **Globulin:** Another type of protein.\n",
            "* **A/G Ratio:** The ratio of albumin to globulin.\n",
            "\n",
            "**10. Serum Electrolytes:**\n",
            "\n",
            "Measures the levels of electrolytes (minerals) in the blood:\n",
            "\n",
            "* **Serum Sodium:**  Slightly low (122 mmol/l, compared to the normal range 135-146).\n",
            "* **Serum Potassium:** Within normal limits (3.5 mmol/l, normal range is 3.5-5.5).\n",
            "* **Serum Chloride:** Slightly low (97 mmol/l, compared to the normal range 98-107).\n",
            "\n",
            "**In Summary:**\n",
            "\n",
            "Mr. Kishan Goud's results show some elevated inflammation markers (ESR),  a possible past typhoid infection (Widal test), but no evidence of active dengue fever or malaria.  His blood counts are mostly normal, and his liver and kidney function tests are within normal ranges,  except for slightly low sodium and chloride levels. The slightly low RBC count warrants further investigation.  The interpretation of these results should be done by a doctor.  This information is for educational purposes only and does not constitute medical advice.\n",
            "\n"
          ]
        }
      ]
    },
    {
      "cell_type": "code",
      "source": [],
      "metadata": {
        "id": "KRuhbCXqo3lq"
      },
      "execution_count": null,
      "outputs": []
    }
  ]
}