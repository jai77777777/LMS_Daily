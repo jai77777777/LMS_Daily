{
 "cells": [
  {
   "cell_type": "code",
   "execution_count": 2,
   "id": "96a82fef-1e7d-4e4b-917a-e3499a13d054",
   "metadata": {},
   "outputs": [],
   "source": [
    "import requests\n",
    "from bs4 import BeautifulSoup\n",
    "# URL to scrap\n",
    "url = \"http://quotes.toscrape.com/\"\n",
    "# Send a GET request\n",
    "response = requests.get(url)"
   ]
  },
  {
   "cell_type": "code",
   "execution_count": 3,
   "id": "fc18f681-082f-4589-a352-5971b692d452",
   "metadata": {},
   "outputs": [
    {
     "name": "stdout",
     "output_type": "stream",
     "text": [
      "1. \"“The world as we have created it is a process of our thinking. It cannot be changed without changing our thinking.”\" - Albert Einstein\n",
      "   Tags: change, deep-thoughts, thinking, world\n",
      "\n",
      "2. \"“It is our choices, Harry, that show what we truly are, far more than our abilities.”\" - J.K. Rowling\n",
      "   Tags: abilities, choices\n",
      "\n",
      "3. \"“There are only two ways to live your life. One is as though nothing is a miracle. The other is as though everything is a miracle.”\" - Albert Einstein\n",
      "   Tags: inspirational, life, live, miracle, miracles\n",
      "\n",
      "4. \"“The person, be it gentleman or lady, who has not pleasure in a good novel, must be intolerably stupid.”\" - Jane Austen\n",
      "   Tags: aliteracy, books, classic, humor\n",
      "\n",
      "5. \"“Imperfection is beauty, madness is genius and it's better to be absolutely ridiculous than absolutely boring.”\" - Marilyn Monroe\n",
      "   Tags: be-yourself, inspirational\n",
      "\n"
     ]
    }
   ],
   "source": [
    "if response.status_code == 200:\n",
    "    soup = BeautifulSoup(response.text, 'html.parser')\n",
    "    quotes = soup.find_all(\"div\", class_=\"quote\")\n",
    "    for i, quote in enumerate(quotes[:5]):  \n",
    "        text = quote.find(\"span\", class_=\"text\").text  \n",
    "        author = quote.find(\"small\", class_=\"author\").text  \n",
    "        tags = [tag.text for tag in quote.find_all(\"a\", class_=\"tag\")]  \n",
    "        print(f\"{i+1}. \\\"{text}\\\" - {author}\")\n",
    "        print(f\"   Tags: {', '.join(tags)}\\n\")\n",
    "else:\n",
    "    print(f\"Failed to retrieve the webpage. Status Code: {response.status_code}\")"
   ]
  },
  {
   "cell_type": "code",
   "execution_count": 4,
   "id": "14e6b285-cbdc-40f8-9fb0-502d3c4fa88e",
   "metadata": {},
   "outputs": [
    {
     "name": "stdout",
     "output_type": "stream",
     "text": [
      "Current Weather in Hyderabad: 32 °C | Clear.\n"
     ]
    }
   ],
   "source": [
    "import requests\n",
    "from bs4 import BeautifulSoup\n",
    "city = \"india/hyderabad\"\n",
    "url = f\"https://www.timeanddate.com/weather/{city}\"\n",
    "response = requests.get(url)\n",
    "soup = BeautifulSoup(response.text, 'html.parser')\n",
    "temp = soup.find(\"div\", class_=\"h2\").text.strip() if soup.find(\"div\", class_=\"h2\") else \"N/A\"\n",
    "desc = soup.find(\"p\").text.strip() if soup.find(\"p\") else \"N/A\"\n",
    "print(f\"Current Weather in Hyderabad: {temp} | {desc}\")"
   ]
  },
  {
   "cell_type": "code",
   "execution_count": null,
   "id": "db12f7aa-6d33-4f3b-bfdd-78af65a27eac",
   "metadata": {},
   "outputs": [],
   "source": [
    "import requests\n",
    "from bs4 import BeautifulSoap\n",
    "search_url=\"https://www.amazon.in/gp/bestsellers/?ref_=nav_cs_bestsellers\"\n",
    "headers={\n",
    "    \"User\"\n",
    "}"
   ]
  },
  {
   "cell_type": "code",
   "execution_count": 6,
   "id": "93d8e48c-494c-4304-b3c0-cc6574130b81",
   "metadata": {},
   "outputs": [
    {
     "name": "stdout",
     "output_type": "stream",
     "text": [
      "Product: \n",
      "Price: Rs.330.\n"
     ]
    }
   ],
   "source": [
    "import requests\n",
    "from bs4 import BeautifulSoup\n",
    "search_url=\"https://www.amazon.in/Amazon-Brand-Presto-Oxo-Biodegradable-Garbage/dp/B0821PN8L4/ref=zg_bs_c_kitchen_d_sccl_1/261-3877040-6350228?pd_rd_w=vqWsG&content-id=amzn1.sym.cde02f8b-0594-439d-9e93-f4cced7ce3ce&pf_rd_p=cde02f8b-0594-439d-9e93-f4cced7ce3ce&pf_rd_r=GSX8DQ4S77TY2G1GK4YZ&pd_rd_wg=n6hkS&pd_rd_r=35f3a3bd-cd95-4845-857c-aadc21ce90d5&pd_rd_i=B0821PN8L4&th=1\"\n",
    "headers = {\n",
    "    \"User-Agent\": \"Mozilla/5.0 (Windows NT 10.0; Win64; x64) AppleWebKit/537.36 (KHTML, like Gecko) Chrome/91.0.4472.124 Safari/537.36\"\n",
    "}\n",
    "response = requests.get(search_url, headers=headers)\n",
    "soup = BeautifulSoup(response.text, \"html.parser\")\n",
    "product = soup.select_one(\"span.a-size-medium\")\n",
    "price = soup.select_one(\"span.a-price-whole\")\n",
    "if product and price:\n",
    "    print(f\"Product: {product.text.strip()}\")\n",
    "    print(f\"Price: Rs.{price.text.strip()}\")\n",
    "else:\n",
    "    print(\"Could not find product details.\")"
   ]
  },
  {
   "cell_type": "code",
   "execution_count": 8,
   "id": "a8ef60a9-88b0-497b-817e-409addd01870",
   "metadata": {},
   "outputs": [
    {
     "name": "stdout",
     "output_type": "stream",
     "text": [
      "World:8,119,000,000\n",
      "China:1,408,280,000\n",
      "1,402,737,000:17.2%\n",
      "United States:340,110,988\n",
      "Indonesia:282,477,584\n"
     ]
    }
   ],
   "source": [
    "import requests\n",
    "from bs4 import BeautifulSoup\n",
    "url=\"https://en.wikipedia.org/wiki/List_of_countries_and_dependencies_by_population\"\n",
    "response=requests.get(url,headers=headers)\n",
    "soup=BeautifulSoup(response.text,\"html.parser\")\n",
    "table=soup.find(\"table\",class_=\"wikitable\")\n",
    "for row in table.find_all(\"tr\")[1:6]:\n",
    "    columns=row.find_all(\"td\")\n",
    "    country=columns[1].text.strip()\n",
    "    population=columns[2].text.strip()\n",
    "    print(f\"{country}:{population}\")"
   ]
  },
  {
   "cell_type": "code",
   "execution_count": 9,
   "id": "a535ba03-06ee-4e90-a4d6-bd7bbf28fd3f",
   "metadata": {},
   "outputs": [],
   "source": []
  },
  {
   "cell_type": "code",
   "execution_count": 11,
   "id": "a1b5e89e-ae6f-4757-80a7-db650cd34c01",
   "metadata": {},
   "outputs": [
    {
     "data": {
      "text/html": [
       "\n",
       "   <p style=\"font-family:verdana\">This is a sample table</p>\n",
       "  <table>\n",
       "  <tr>\n",
       "    <th>Company</th>\n",
       "    <th>Contact</th>\n",
       "    <th>Country</th>\n",
       "  </tr>\n",
       "  <tr>\n",
       "    <td>Alfreds Futterkiste</td>\n",
       "    <td>Maria Anders</td>\n",
       "    <td>Germany</td>\n",
       "  </tr>\n",
       "  <tr>\n",
       "    <td>Centro comercial Moctezuma</td>\n",
       "    <td>Francisco Chang</td>\n",
       "    <td>Mexico</td>\n",
       "  </tr>\n",
       "</table>\n",
       "\n"
      ],
      "text/plain": [
       "<IPython.core.display.HTML object>"
      ]
     },
     "metadata": {},
     "output_type": "display_data"
    }
   ],
   "source": [
    "from IPython.display import display, HTML\n",
    "\n",
    "display(HTML(\"\"\"\n",
    "   <p style=\"font-family:verdana\">This is a sample table</p>\n",
    "  <table>\n",
    "  <tr>\n",
    "    <th>Company</th>\n",
    "    <th>Contact</th>\n",
    "    <th>Country</th>\n",
    "  </tr>\n",
    "  <tr>\n",
    "    <td>Alfreds Futterkiste</td>\n",
    "    <td>Maria Anders</td>\n",
    "    <td>Germany</td>\n",
    "  </tr>\n",
    "  <tr>\n",
    "    <td>Centro comercial Moctezuma</td>\n",
    "    <td>Francisco Chang</td>\n",
    "    <td>Mexico</td>\n",
    "  </tr>\n",
    "</table>\n",
    "\n",
    "\"\"\"))"
   ]
  },
  {
   "cell_type": "code",
   "execution_count": null,
   "id": "c80f2bc2-f5cc-4d05-920c-0d15cd4f0230",
   "metadata": {},
   "outputs": [],
   "source": []
  }
 ],
 "metadata": {
  "kernelspec": {
   "display_name": "Python 3 (ipykernel)",
   "language": "python",
   "name": "python3"
  },
  "language_info": {
   "codemirror_mode": {
    "name": "ipython",
    "version": 3
   },
   "file_extension": ".py",
   "mimetype": "text/x-python",
   "name": "python",
   "nbconvert_exporter": "python",
   "pygments_lexer": "ipython3",
   "version": "3.11.7"
  }
 },
 "nbformat": 4,
 "nbformat_minor": 5
}
